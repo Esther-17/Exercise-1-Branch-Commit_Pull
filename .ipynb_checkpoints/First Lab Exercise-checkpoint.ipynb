{
 "cells": [
  {
   "cell_type": "code",
   "execution_count": null,
   "metadata": {
    "collapsed": true
   },
   "outputs": [],
   "source": [
    "# Your mission:\n",
    "# -fork this code to your own repository\n",
    "# -try running the code in Jupyter\n",
    "# -edit the code to produce the desired output \n",
    "# -add comments to describe the purpose of each step\n",
    "# -save your code\n",
    "# -commit the changes in GitHub\n",
    "# -submit a pull request to merge your altered code to the source repository\n",
    "# -Cooper will comment on the pull request to give you feedback"
   ]
  },
  {
   "cell_type": "code",
   "execution_count": null,
   "metadata": {
    "collapsed": true
   },
   "outputs": [],
   "source": [
    "# Code goal: create a 2x4 matrix with the following values\n",
    "# Row one: the first four digits of pi, without the decimal point (already done for you)\n",
    "# Row two: the first four digits of e, without the decimal point\n",
    "\n",
    "# OPTIONAL: append to the matrix above.\n",
    "# Rows one and two: same as above\n",
    "# Row three: the first 4 digits of pi*3, without the decimal point\n",
    "# Row four: the first four digits of e/4, without the decimal point"
   ]
  },
  {
   "cell_type": "code",
   "execution_count": 2,
   "metadata": {
    "collapsed": false
   },
   "outputs": [
    {
     "data": {
      "text/plain": [
       "3.141592653589793"
      ]
     },
     "execution_count": 2,
     "metadata": {},
     "output_type": "execute_result"
    }
   ],
   "source": [
    "# Add more math knowledge to the programming, so pi is no long just as two english letters but can be recognized as a math constant number. On the second line in this cell, the math in front of pi lets it to show the value of pi.\n",
    "import math\n",
    "math.pi"
   ]
  },
  {
   "cell_type": "code",
   "execution_count": 4,
   "metadata": {
    "collapsed": false
   },
   "outputs": [
    {
     "data": {
      "text/plain": [
       "2.718281828459045"
      ]
     },
     "execution_count": 4,
     "metadata": {},
     "output_type": "execute_result"
    }
   ],
   "source": [
    "math.e"
   ]
  },
  {
   "cell_type": "code",
   "execution_count": 5,
   "metadata": {
    "collapsed": false
   },
   "outputs": [
    {
     "name": "stdout",
     "output_type": "stream",
     "text": [
      "3.141592653589793\n"
     ]
    }
   ],
   "source": [
    "# In the first line, \"Pi\" is assigned to have the value of pi. \"str()\" change the value of pi into a series of individual numbers, so these numbers as be assigned to the matrix later. When print pi, it shows tha value of pi. When print digitsOfPi, it shows a series of number which happens to have a same order as the value of pi. \n",
    "Pi = math.pi\n",
    "digitsOfPi = str(Pi) # what is \"str()\" doing? How is \"digitsOfPi\" different from \"Pi\"?\n",
    "print(digitsOfPi)"
   ]
  },
  {
   "cell_type": "code",
   "execution_count": 7,
   "metadata": {
    "collapsed": true
   },
   "outputs": [],
   "source": [
    "# Add your comment of this section here\n",
    "a = digitsOfPi[0]\n",
    "b = digitsOfPi[2]\n",
    "c = digitsOfPi[3]\n",
    "d = digitsOfPi[4]"
   ]
  },
  {
   "cell_type": "code",
   "execution_count": 8,
   "metadata": {
    "collapsed": false
   },
   "outputs": [
    {
     "data": {
      "text/plain": [
       "'3'"
      ]
     },
     "execution_count": 8,
     "metadata": {},
     "output_type": "execute_result"
    }
   ],
   "source": [
    "a"
   ]
  },
  {
   "cell_type": "code",
   "execution_count": null,
   "metadata": {
    "collapsed": true
   },
   "outputs": [],
   "source": [
    "# Add your comment of this section here\n",
    "import numpy as np\n",
    "firstRow =  np.array([a,b,c,d])\n",
    "firstRow"
   ]
  },
  {
   "cell_type": "code",
   "execution_count": null,
   "metadata": {
    "collapsed": false
   },
   "outputs": [],
   "source": [
    "Euler = math.e\n",
    "# Add code here to construct row two (you can use row one as template)\n",
    "# more code here\n",
    "secondRow = # complete this line to make secondRow"
   ]
  },
  {
   "cell_type": "code",
   "execution_count": null,
   "metadata": {
    "collapsed": false
   },
   "outputs": [],
   "source": [
    "# Add your comment of this section here\n",
    "CombinedMatrix = np.vstack((firstRow,secondRow))\n",
    "CombinedMatrix"
   ]
  },
  {
   "cell_type": "code",
   "execution_count": null,
   "metadata": {
    "collapsed": false
   },
   "outputs": [],
   "source": [
    "# Add your comment of this section here\n",
    "FinalMatrix = CombinedMatrix.astype(np.int)\n",
    "FinalMattrix"
   ]
  }
 ],
 "metadata": {
  "anaconda-cloud": {},
  "kernelspec": {
   "display_name": "Python [conda root]",
   "language": "python",
   "name": "conda-root-py"
  },
  "language_info": {
   "codemirror_mode": {
    "name": "ipython",
    "version": 3
   },
   "file_extension": ".py",
   "mimetype": "text/x-python",
   "name": "python",
   "nbconvert_exporter": "python",
   "pygments_lexer": "ipython3",
   "version": "3.5.2"
  }
 },
 "nbformat": 4,
 "nbformat_minor": 1
}
